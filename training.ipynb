{
 "cells": [
  {
   "cell_type": "code",
   "execution_count": 1,
   "metadata": {},
   "outputs": [
    {
     "data": {
      "application/vnd.jupyter.widget-view+json": {
       "model_id": "6e7f57c8e78f49d9b95eacc3ca651a74",
       "version_major": 2,
       "version_minor": 0
      },
      "text/plain": [
       "VBox(children=(HBox(children=(IntText(value=512, description='nz'), IntText(value=32, description='ngf'), IntT…"
      ]
     },
     "metadata": {},
     "output_type": "display_data"
    }
   ],
   "source": [
    "%matplotlib inline\n",
    "import dcgan\n",
    "import tensorflow as tf\n",
    "import os\n",
    "import ipywidgets as widgets\n",
    "from matplotlib import pyplot as plt\n",
    "\n",
    "# size of latent z vector\n",
    "nz = widgets.IntText(\n",
    "    value=512,\n",
    "    description='nz'\n",
    ")\n",
    "\n",
    "ngf =  widgets.IntText(\n",
    "    value=32,\n",
    "    description='ngf'\n",
    ")\n",
    "\n",
    "ndf =  widgets.IntText(\n",
    "    value=16,\n",
    "    description='ndf'\n",
    ")\n",
    "\n",
    "n_epoch = widgets.IntText(\n",
    "    value=25,\n",
    "    description='n epoch'\n",
    ")\n",
    "\n",
    "lr = widgets.FloatText(\n",
    "    value = 0.002,\n",
    "    description = 'learning rate'\n",
    ")\n",
    "\n",
    "beta1 = widgets.FloatText(\n",
    "    value = 0.5,\n",
    "    description = 'beta 1'\n",
    ")\n",
    "\n",
    "im_size = widgets.IntText(\n",
    "    value = 64,\n",
    "    description = 'im size'\n",
    ")\n",
    "\n",
    "file_path = widgets.Text(\n",
    "    description = 'path'\n",
    ")\n",
    "\n",
    "u_box = widgets.HBox([nz, ngf, ndf, n_epoch])\n",
    "b_box = widgets.HBox([lr, beta1,im_size])\n",
    "v_b = widgets.VBox([u_box,b_box,file_path])\n",
    "\n",
    "display(v_b)"
   ]
  },
  {
   "cell_type": "code",
   "execution_count": 2,
   "metadata": {},
   "outputs": [],
   "source": [
    "import h5py\n",
    "\n",
    "tf.enable_eager_execution()\n",
    "\n",
    "BUFFER_SIZE = 60000\n",
    "BATCH_SIZE = 10\n",
    "\n",
    "f = h5py.File(file_path.value, 'r')\n",
    "\n",
    "train_dataset = tf.data.Dataset.from_tensor_slices(f['data']).shuffle(BUFFER_SIZE).batch(BATCH_SIZE)"
   ]
  },
  {
   "cell_type": "code",
   "execution_count": 3,
   "metadata": {},
   "outputs": [
    {
     "ename": "TypeError",
     "evalue": "make_generator_model() missing 4 required positional arguments: 'isize', 'nz', 'nc', and 'ngf'",
     "output_type": "error",
     "traceback": [
      "\u001b[0;31m---------------------------------------------------------------------------\u001b[0m",
      "\u001b[0;31mTypeError\u001b[0m                                 Traceback (most recent call last)",
      "\u001b[0;32m<ipython-input-3-904c14d43495>\u001b[0m in \u001b[0;36m<module>\u001b[0;34m\u001b[0m\n\u001b[1;32m      1\u001b[0m \u001b[0mnc\u001b[0m \u001b[0;34m=\u001b[0m \u001b[0;36m1\u001b[0m\u001b[0;34m\u001b[0m\u001b[0m\n\u001b[1;32m      2\u001b[0m \u001b[0;34m\u001b[0m\u001b[0m\n\u001b[0;32m----> 3\u001b[0;31m \u001b[0mnetG\u001b[0m \u001b[0;34m=\u001b[0m \u001b[0mdcgan\u001b[0m\u001b[0;34m.\u001b[0m\u001b[0mmake_generator_model\u001b[0m\u001b[0;34m(\u001b[0m\u001b[0;34m)\u001b[0m\u001b[0;34m\u001b[0m\u001b[0m\n\u001b[0m\u001b[1;32m      4\u001b[0m \u001b[0mnetD\u001b[0m \u001b[0;34m=\u001b[0m \u001b[0mdcgan\u001b[0m\u001b[0;34m.\u001b[0m\u001b[0mmake_descriminator_model\u001b[0m\u001b[0;34m(\u001b[0m\u001b[0;34m)\u001b[0m\u001b[0;34m\u001b[0m\u001b[0m\n",
      "\u001b[0;31mTypeError\u001b[0m: make_generator_model() missing 4 required positional arguments: 'isize', 'nz', 'nc', and 'ngf'"
     ]
    }
   ],
   "source": [
    "nc = 1\n",
    "\n",
    "netG = dcgan.make_generator_model(im_size.value, nz.value, nc, ngf.value)\n",
    "netD = dcgan.make_discriminator_model(im_size.value, nc, ndf.value)"
   ]
  },
  {
   "cell_type": "code",
   "execution_count": null,
   "metadata": {},
   "outputs": [],
   "source": [
    "d_optimizer = tf.keras.optimizers.Adam(lr.value, beta_1=beta1.value)\n",
    "g_optimizer = tf.keras.optimizers.Adam(lr.value, beta_1=beta1.value)"
   ]
  },
  {
   "cell_type": "code",
   "execution_count": null,
   "metadata": {},
   "outputs": [],
   "source": [
    "def discriminator_loss(real_output, fake_output):\n",
    "    real_loss = tf.keras.metrics.binary_crossentropy(tf.ones_like(real_output), real_output)\n",
    "    fake_loss = tf.keras.metrics.binary_crossentropy(tf.zeros_like(fake_output), fake_output)\n",
    "    total_loss = real_loss + fake_loss\n",
    "    return total_loss\n",
    "\n",
    "def generator_loss(fake_output):\n",
    "    return tf.keras.metrics.binary_crossentropy(tf.ones_like(fake_output), fake_output)"
   ]
  },
  {
   "cell_type": "code",
   "execution_count": null,
   "metadata": {},
   "outputs": [],
   "source": [
    "import time\n",
    "\n",
    "for epoch in range(n_epoch.value):\n",
    "    start = time.time()\n",
    "    for image_batch in train_dataset:       \n",
    "        noise = tf.random.normal([BATCH_SIZE,1,1,1,nz.value])\n",
    "        \n",
    "        with tf.GradientTape() as gen_tape, tf.GradientTape() as disc_tape:\n",
    "            generated_images = netG(noise, training=True)\n",
    "            \n",
    "            fake_output = netD(generated_images, training=True)\n",
    "            \n",
    "            real_output = netD(image_batch, training=True)\n",
    "            gen_loss = generator_loss(fake_output)\n",
    "            #disc_loss = discriminator_loss(real_output, fake_output)\n",
    "\n",
    "            #gradients_of_generator = gen_tape.gradient(gen_loss, netG.trainable_variables)\n",
    "            #gradients_of_discriminator = disc_tape.gradient(disc_loss, netD.trainable_variables)\n",
    "\n",
    "            #g_optimizer.apply_gradients(zip(gradients_of_generator, netG.trainable_variables))\n",
    "            #d_optimizer.apply_gradients(zip(gradients_of_discriminator, netD.trainable_variables))\n",
    "\n",
    "    print ('Time for epoch {} is {} sec'.format(epoch + 1, time.time()-start))\n"
   ]
  }
 ],
 "metadata": {
  "kernelspec": {
   "display_name": "Python 3",
   "language": "python",
   "name": "python3"
  },
  "language_info": {
   "codemirror_mode": {
    "name": "ipython",
    "version": 3
   },
   "file_extension": ".py",
   "mimetype": "text/x-python",
   "name": "python",
   "nbconvert_exporter": "python",
   "pygments_lexer": "ipython3",
   "version": "3.5.2"
  }
 },
 "nbformat": 4,
 "nbformat_minor": 2
}
