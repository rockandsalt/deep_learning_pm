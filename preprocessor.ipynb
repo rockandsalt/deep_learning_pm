{
 "cells": [
  {
   "cell_type": "code",
   "execution_count": 1,
   "metadata": {},
   "outputs": [
    {
     "data": {
      "application/vnd.jupyter.widget-view+json": {
       "model_id": "14832ba8a01342cd9b4d045af0b0194c",
       "version_major": 2,
       "version_minor": 0
      },
      "text/plain": [
       "Text(value='', description='path')"
      ]
     },
     "metadata": {},
     "output_type": "display_data"
    }
   ],
   "source": [
    "%matplotlib inline\n",
    "import os\n",
    "import ipywidgets as widgets\n",
    "from matplotlib import pyplot as plt\n",
    "\n",
    "file_path = widgets.Text(\n",
    "    description = 'path'\n",
    ")\n",
    "\n",
    "display(file_path)"
   ]
  },
  {
   "cell_type": "code",
   "execution_count": 9,
   "metadata": {},
   "outputs": [],
   "source": [
    "import configparser\n",
    "config = configparser.ConfigParser()\n",
    "config.read(file_path.value)\n",
    "\n",
    "im_size = int(config['Training']['im_size'])\n",
    "raw_path = config['Training']['raw_path']\n",
    "hr_path = config['Training']['hr_path']\n",
    "lr_path = config['Training']['lr_path']\n",
    "lr_test_path = config['Training']['lr_test_data']\n",
    "hr_test_path = config['Training']['hr_test_data']"
   ]
  },
  {
   "cell_type": "code",
   "execution_count": 10,
   "metadata": {},
   "outputs": [],
   "source": [
    "import data_preprocessor as dp\n",
    "import numpy as np\n",
    "import skimage as ski\n",
    "from sklearn.model_selection import train_test_split\n",
    "\n",
    "img = ski.io.imread(raw_path)\n",
    "\n",
    "left_over = np.array(img.shape) % im_size\n",
    "if(left_over[0] != 0):\n",
    "    img = img[0:-left_over[0],:,:]\n",
    "if(left_over[1] != 0):\n",
    "    img = img[:,0:-left_over[1],:]\n",
    "if(left_over[2] != 0):\n",
    "    img = img[:,:,0:-left_over[2]]\n",
    "\n",
    "data = dp.cubify(img, (im_size,im_size,im_size))\n",
    "train_set, test_set = train_test_split(data,test_size = 0.1)"
   ]
  },
  {
   "cell_type": "code",
   "execution_count": 11,
   "metadata": {},
   "outputs": [
    {
     "data": {
      "application/vnd.jupyter.widget-view+json": {
       "model_id": "b2562cd4378c45249dd7a677edf41914",
       "version_major": 2,
       "version_minor": 0
      },
      "text/plain": [
       "interactive(children=(IntSlider(value=12, description='i', max=24), IntSlider(value=64, description='z', max=1…"
      ]
     },
     "metadata": {},
     "output_type": "display_data"
    }
   ],
   "source": [
    "from ipywidgets import interactive\n",
    "\n",
    "def f(img):\n",
    "    def func(i,z):\n",
    "        fig, ax = plt.subplots()\n",
    "        ax.imshow(img[i,:,:,z],cmap = 'gray')\n",
    "        plt.show()\n",
    "    return func\n",
    "\n",
    "disp_img = f(train_set)\n",
    "\n",
    "interactive_plot = interactive(disp_img, i=(0, train_set.shape[0]), z=(0,train_set.shape[3]))\n",
    "output = interactive_plot.children[-1]\n",
    "output.layout.height = '350px'\n",
    "interactive_plot"
   ]
  },
  {
   "cell_type": "code",
   "execution_count": 12,
   "metadata": {},
   "outputs": [
    {
     "data": {
      "application/vnd.jupyter.widget-view+json": {
       "model_id": "f9c707d031dd4954a0331db2c0d746d8",
       "version_major": 2,
       "version_minor": 0
      },
      "text/plain": [
       "interactive(children=(IntSlider(value=1, description='i', max=3), IntSlider(value=64, description='z', max=128…"
      ]
     },
     "metadata": {},
     "output_type": "display_data"
    }
   ],
   "source": [
    "disp_img_test = f(test_set)\n",
    "\n",
    "interactive_plot = interactive(disp_img_test, i=(0, test_set.shape[0]), z=(0,test_set.shape[3]))\n",
    "output = interactive_plot.children[-1]\n",
    "output.layout.height = '350px'\n",
    "interactive_plot"
   ]
  },
  {
   "cell_type": "code",
   "execution_count": 13,
   "metadata": {},
   "outputs": [],
   "source": [
    "def salt_data(data):\n",
    "    down_scaled = []\n",
    "    for img in data:\n",
    "        x_center = img.shape[0] // 2\n",
    "        y_center = img.shape[1] // 2\n",
    "        z_center = img.shape[2] // 2\n",
    "\n",
    "        fft_img = np.fft.fftn(img) \n",
    "\n",
    "        fft_img[x_center-20 : x_center+20, y_center-20 : y_center+20, z_center-20 : z_center+20] = 0\n",
    "        inv_img = np.fft.ifftn(fft_img)\n",
    "\n",
    "        down_sp = ski.transform.resize(abs(inv_img),(12,12,12))\n",
    "        up_sp = ski.transform.resize(down_sp,img.shape)\n",
    "\n",
    "        down_scaled.append(abs(up_sp))\n",
    "    return np.array(down_scaled)\n",
    "\n",
    "lr_train = salt_data(train_set)\n",
    "lr_test = salt_data(test_set)"
   ]
  },
  {
   "cell_type": "code",
   "execution_count": 14,
   "metadata": {},
   "outputs": [
    {
     "data": {
      "application/vnd.jupyter.widget-view+json": {
       "model_id": "5dd9da8f85b741e2bc233980446b3b66",
       "version_major": 2,
       "version_minor": 0
      },
      "text/plain": [
       "interactive(children=(IntSlider(value=12, description='i', max=24), IntSlider(value=64, description='z', max=1…"
      ]
     },
     "metadata": {},
     "output_type": "display_data"
    }
   ],
   "source": [
    "disp_img_lr_train = f(lr_train)\n",
    "\n",
    "interactive_plot = interactive(disp_img_lr_train, i=(0, lr_train.shape[0]), z=(0,lr_train.shape[3]))\n",
    "output = interactive_plot.children[-1]\n",
    "output.layout.height = '350px'\n",
    "interactive_plot"
   ]
  },
  {
   "cell_type": "code",
   "execution_count": 15,
   "metadata": {},
   "outputs": [],
   "source": [
    "import h5py\n",
    "\n",
    "file_list = [(hr_path,train_set),(lr_path,lr_train),(lr_test_path,lr_test),(hr_test_path,test_set)]\n",
    "\n",
    "for name,val in file_list:\n",
    "    hf = h5py.File(name, \"w\")\n",
    "    data_set = hf.create_dataset(\"data\", data=val.astype(np.float64))\n",
    "    hf.close()\n"
   ]
  }
 ],
 "metadata": {
  "kernelspec": {
   "display_name": "Python 3",
   "language": "python",
   "name": "python3"
  },
  "language_info": {
   "codemirror_mode": {
    "name": "ipython",
    "version": 3
   },
   "file_extension": ".py",
   "mimetype": "text/x-python",
   "name": "python",
   "nbconvert_exporter": "python",
   "pygments_lexer": "ipython3",
   "version": "3.7.3"
  }
 },
 "nbformat": 4,
 "nbformat_minor": 2
}
