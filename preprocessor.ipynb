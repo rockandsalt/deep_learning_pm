{
 "cells": [
  {
   "cell_type": "code",
   "execution_count": 1,
   "metadata": {},
   "outputs": [
    {
     "data": {
      "application/vnd.jupyter.widget-view+json": {
       "model_id": "4c8053c893c74fbaa36ca4c4c80f6018",
       "version_major": 2,
       "version_minor": 0
      },
      "text/plain": [
       "Text(value='', description='path')"
      ]
     },
     "metadata": {},
     "output_type": "display_data"
    }
   ],
   "source": [
    "%matplotlib inline\n",
    "import os\n",
    "import ipywidgets as widgets\n",
    "from matplotlib import pyplot as plt\n",
    "\n",
    "file_path = widgets.Text(\n",
    "    description = 'path'\n",
    ")\n",
    "\n",
    "display(file_path)"
   ]
  },
  {
   "cell_type": "code",
   "execution_count": 6,
   "metadata": {},
   "outputs": [],
   "source": [
    "import configparser\n",
    "config = configparser.ConfigParser()\n",
    "config.read(file_path.value)\n",
    "\n",
    "im_size = int(config['Training']['im_size'])\n",
    "raw_path = config['Training']['raw_path']\n",
    "hr_path = config['Training']['hr_path']\n",
    "lr_path = config['Training']['lr_path']\n",
    "lr_test_path = config['Training']['lr_test_data']\n",
    "hr_test_path = config['Training']['hr_test_data']"
   ]
  },
  {
   "cell_type": "code",
   "execution_count": 7,
   "metadata": {},
   "outputs": [],
   "source": [
    "import data_preprocessor as dp\n",
    "import numpy as np\n",
    "import skimage as ski\n",
    "from sklearn.model_selection import train_test_split\n",
    "\n",
    "img = ski.io.imread(raw_path)\n",
    "\n",
    "left_over = np.array(img.shape) % im_size\n",
    "if(left_over[0] != 0):\n",
    "    img = img[0:-left_over[0],:,:]\n",
    "if(left_over[1] != 0):\n",
    "    img = img[:,0:-left_over[1],:]\n",
    "if(left_over[2] != 0):\n",
    "    img = img[:,:,0:-left_over[2]]\n",
    "\n",
    "data = dp.cubify(img, (im_size,im_size,im_size))\n",
    "train_set, test_set = train_test_split(data,test_size = 0.1)"
   ]
  },
  {
   "cell_type": "code",
   "execution_count": 8,
   "metadata": {},
   "outputs": [],
   "source": [
    "def salt_data(data):\n",
    "    down_scaled = []\n",
    "    for img in data:\n",
    "        x_center = img.shape[0] // 2\n",
    "        y_center = img.shape[1] // 2\n",
    "        z_center = img.shape[2] // 2\n",
    "\n",
    "        fft_img = np.fft.fftn(img) \n",
    "\n",
    "        fft_img[x_center-20 : x_center+20, y_center-20 : y_center+20, z_center-20 : z_center+20] = 0\n",
    "        inv_img = np.fft.ifftn(fft_img)\n",
    "\n",
    "        down_sp = ski.transform.resize(abs(inv_img),(12,12,12))\n",
    "        up_sp = ski.transform.resize(down_sp,img.shape)\n",
    "\n",
    "        down_scaled.append(abs(up_sp))\n",
    "    return np.array(down_scaled)\n",
    "\n",
    "lr_train = salt_data(train_set)\n",
    "lr_test = salt_data(test_set)"
   ]
  },
  {
   "cell_type": "code",
   "execution_count": 9,
   "metadata": {},
   "outputs": [],
   "source": [
    "import h5py\n",
    "\n",
    "file_list = [(hr_path,train_set),(lr_path,lr_train),(lr_test_path,lr_test),(hr_test_path,test_set)]\n",
    "\n",
    "for name,val in file_list:\n",
    "    hf = h5py.File(name, \"w\")\n",
    "    data_set = hf.create_dataset(\"data\", data=val.astype(np.float64))\n",
    "    hf.close()"
   ]
  },
  {
   "cell_type": "code",
   "execution_count": 10,
   "metadata": {},
   "outputs": [],
   "source": [
    "img_hr = h5py.File(hr_path, 'r')\n",
    "img_lr = h5py.File(lr_path, 'r')\n",
    "\n",
    "img_hr_data = img_hr['data']\n",
    "img_lr_data = img_lr['data']"
   ]
  },
  {
   "cell_type": "code",
   "execution_count": 11,
   "metadata": {},
   "outputs": [
    {
     "data": {
      "application/vnd.jupyter.widget-view+json": {
       "model_id": "0a14498af4b747979401a84542454e3b",
       "version_major": 2,
       "version_minor": 0
      },
      "text/plain": [
       "interactive(children=(IntSlider(value=12, description='i', max=24), IntSlider(value=64, description='z', max=1…"
      ]
     },
     "metadata": {},
     "output_type": "display_data"
    }
   ],
   "source": [
    "from ipywidgets import interactive\n",
    "\n",
    "def f(img):\n",
    "    def func(i,z):\n",
    "        fig, ax = plt.subplots()\n",
    "        ax.imshow(img[i,:,:,z],cmap = 'gray')\n",
    "        plt.show()\n",
    "    return func\n",
    "\n",
    "disp_img = f(img_hr_data)\n",
    "\n",
    "interactive_plot = interactive(disp_img, i=(0, img_hr_data.shape[0]), z=(0,img_hr_data.shape[3]))\n",
    "output = interactive_plot.children[-1]\n",
    "output.layout.height = '350px'\n",
    "interactive_plot"
   ]
  },
  {
   "cell_type": "code",
   "execution_count": 12,
   "metadata": {},
   "outputs": [
    {
     "data": {
      "application/vnd.jupyter.widget-view+json": {
       "model_id": "3ce613d5d69a46f8abc82c7265894bc1",
       "version_major": 2,
       "version_minor": 0
      },
      "text/plain": [
       "interactive(children=(IntSlider(value=12, description='i', max=24), IntSlider(value=64, description='z', max=1…"
      ]
     },
     "metadata": {},
     "output_type": "display_data"
    }
   ],
   "source": [
    "disp_img_test = f(img_lr_data)\n",
    "\n",
    "interactive_plot = interactive(disp_img_test, i=(0, img_lr_data.shape[0]), z=(0,img_lr_data.shape[3]))\n",
    "output = interactive_plot.children[-1]\n",
    "output.layout.height = '350px'\n",
    "interactive_plot"
   ]
  }
 ],
 "metadata": {
  "kernelspec": {
   "display_name": "Python 3",
   "language": "python",
   "name": "python3"
  },
  "language_info": {
   "codemirror_mode": {
    "name": "ipython",
    "version": 3
   },
   "file_extension": ".py",
   "mimetype": "text/x-python",
   "name": "python",
   "nbconvert_exporter": "python",
   "pygments_lexer": "ipython3",
   "version": "3.7.4"
  }
 },
 "nbformat": 4,
 "nbformat_minor": 2
}
