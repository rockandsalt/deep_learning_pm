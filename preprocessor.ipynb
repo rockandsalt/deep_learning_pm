{
 "cells": [
  {
   "cell_type": "code",
   "execution_count": 1,
   "metadata": {},
   "outputs": [
    {
     "data": {
      "application/vnd.jupyter.widget-view+json": {
       "model_id": "1cb498d14d10477881bf6785a2ae2e0a",
       "version_major": 2,
       "version_minor": 0
      },
      "text/plain": [
       "Text(value='', description='path')"
      ]
     },
     "metadata": {},
     "output_type": "display_data"
    }
   ],
   "source": [
    "%matplotlib inline\n",
    "import os\n",
    "import ipywidgets as widgets\n",
    "from matplotlib import pyplot as plt\n",
    "\n",
    "file_path = widgets.Text(\n",
    "    description = 'path'\n",
    ")\n",
    "\n",
    "display(file_path)"
   ]
  },
  {
   "cell_type": "code",
   "execution_count": 76,
   "metadata": {},
   "outputs": [],
   "source": [
    "import configparser\n",
    "config = configparser.ConfigParser()\n",
    "config.read(file_path.value)\n",
    "\n",
    "im_size = int(config['Training']['im_size'])\n",
    "raw_path = config['Training']['raw_path']\n",
    "ti_path = config['Training']['ti_path']\n",
    "label_path = config['Training']['label_path']"
   ]
  },
  {
   "cell_type": "code",
   "execution_count": 77,
   "metadata": {},
   "outputs": [],
   "source": [
    "import data_preprocessor as dp\n",
    "import numpy as np\n",
    "import skimage as ski\n",
    "\n",
    "img = ski.io.imread(raw_path)\n",
    "\n",
    "left_over = np.array(img.shape) % im_size\n",
    "if(left_over[0] != 0):\n",
    "    img = img[0:-left_over[0],:,:]\n",
    "if(left_over[1] != 0):\n",
    "    img = img[:,0:-left_over[1],:]\n",
    "if(left_over[2] != 0):\n",
    "    img = img[:,:,0:-left_over[2]]\n",
    "\n",
    "train_set = dp.cubify(img, (im_size,im_size,im_size))\n"
   ]
  },
  {
   "cell_type": "code",
   "execution_count": 78,
   "metadata": {},
   "outputs": [
    {
     "data": {
      "application/vnd.jupyter.widget-view+json": {
       "model_id": "b5e75f181e4f455aabbf1ba6ac107352",
       "version_major": 2,
       "version_minor": 0
      },
      "text/plain": [
       "interactive(children=(IntSlider(value=108, description='i', max=216), IntSlider(value=32, description='z', max…"
      ]
     },
     "metadata": {},
     "output_type": "display_data"
    }
   ],
   "source": [
    "from ipywidgets import interactive\n",
    "\n",
    "def f(img):\n",
    "    def func(i,z):\n",
    "        fig, ax = plt.subplots()\n",
    "        ax.imshow(img[i,:,:,z],cmap = 'gray')\n",
    "        plt.show()\n",
    "    return func\n",
    "\n",
    "disp_img = f(train_set)\n",
    "\n",
    "interactive_plot = interactive(disp_img, i=(0, train_set.shape[0]), z=(0,train_set.shape[3]))\n",
    "output = interactive_plot.children[-1]\n",
    "output.layout.height = '350px'\n",
    "interactive_plot"
   ]
  },
  {
   "cell_type": "code",
   "execution_count": 79,
   "metadata": {},
   "outputs": [],
   "source": [
    "down_scaled = []\n",
    "\n",
    "for img in train_set:\n",
    "    x_center = img.shape[0] // 2\n",
    "    y_center = img.shape[1] // 2\n",
    "    z_center = img.shape[2] // 2\n",
    "    \n",
    "    img[x_center-20 : x_center+20, y_center-20 : y_center+20, z_center-20 : z_center+20] = 0\n",
    "    inv_img = np.fft.ifftn(img)\n",
    "    \n",
    "    down_sp = ski.transform.downscale_local_mean(abs(inv_img),(7,7,7))\n",
    "    #noisy_down_sp = ski.util.random_noise(down_sp)\n",
    "    \n",
    "    down_scaled.append(down_sp)\n",
    "    "
   ]
  },
  {
   "cell_type": "code",
   "execution_count": 80,
   "metadata": {},
   "outputs": [],
   "source": [
    "ti_data = np.array(down_scaled)"
   ]
  },
  {
   "cell_type": "code",
   "execution_count": 81,
   "metadata": {},
   "outputs": [
    {
     "data": {
      "application/vnd.jupyter.widget-view+json": {
       "model_id": "14978469b8394e4eb590d24b05c1c7a8",
       "version_major": 2,
       "version_minor": 0
      },
      "text/plain": [
       "interactive(children=(IntSlider(value=108, description='i', max=216), IntSlider(value=5, description='z', max=…"
      ]
     },
     "metadata": {},
     "output_type": "display_data"
    }
   ],
   "source": [
    "disp_img = f(ti_data)\n",
    "\n",
    "interactive_plot = interactive(disp_img, i=(0, ti_data.shape[0]), z=(0,ti_data.shape[3]))\n",
    "output = interactive_plot.children[-1]\n",
    "output.layout.height = '350px'\n",
    "interactive_plot"
   ]
  },
  {
   "cell_type": "code",
   "execution_count": 83,
   "metadata": {},
   "outputs": [],
   "source": [
    "import h5py\n",
    "\n",
    "hf = h5py.File(label_path, \"w\")\n",
    "data_set = hf.create_dataset(\"data\", data=train_set.astype(np.float64))\n",
    "hf.close()\n",
    "\n",
    "hf = h5py.File(ti_path, \"w\")\n",
    "data_set = hf.create_dataset(\"data\", data=ti_data.astype(np.float64))\n",
    "hf.close()\n"
   ]
  }
 ],
 "metadata": {
  "kernelspec": {
   "display_name": "Python 3",
   "language": "python",
   "name": "python3"
  },
  "language_info": {
   "codemirror_mode": {
    "name": "ipython",
    "version": 3
   },
   "file_extension": ".py",
   "mimetype": "text/x-python",
   "name": "python",
   "nbconvert_exporter": "python",
   "pygments_lexer": "ipython3",
   "version": "3.6.8"
  }
 },
 "nbformat": 4,
 "nbformat_minor": 2
}
